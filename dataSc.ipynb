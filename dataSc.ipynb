{
 "cells": [
  {
   "cell_type": "code",
   "execution_count": 1,
   "source": [
    "# Create 2 new lists height and weight\r\n",
    "height = [1.87,  1.87, 1.82, 1.91, 1.90, 1.85]\r\n",
    "weight = [81.65, 97.52, 95.25, 92.98, 86.18, 88.45]\r\n",
    "\r\n",
    "# Import the numpy package as np\r\n",
    "import numpy as np\r\n",
    "\r\n",
    "# Create 2 numpy arrays from height and weight\r\n",
    "np_height = np.array(height)\r\n",
    "np_weight = np.array(weight)"
   ],
   "outputs": [],
   "metadata": {}
  },
  {
   "cell_type": "code",
   "execution_count": 2,
   "source": [
    "print(type(np_height))"
   ],
   "outputs": [
    {
     "output_type": "stream",
     "name": "stdout",
     "text": [
      "<class 'numpy.ndarray'>\n"
     ]
    }
   ],
   "metadata": {}
  },
  {
   "cell_type": "code",
   "execution_count": 3,
   "source": [
    "# Calculate bmi\r\n",
    "bmi = np_weight / np_height ** 2\r\n",
    "\r\n",
    "# Print the result\r\n",
    "print(bmi)"
   ],
   "outputs": [
    {
     "output_type": "stream",
     "name": "stdout",
     "text": [
      "[23.34925219 27.88755755 28.75558507 25.48723993 23.87257618 25.84368152]\n"
     ]
    }
   ],
   "metadata": {}
  },
  {
   "cell_type": "code",
   "execution_count": 4,
   "source": [
    "# For a boolean response\r\n",
    "bmi > 23\r\n",
    "\r\n",
    "# Print only those observations above 23\r\n",
    "bmi[bmi > 23]"
   ],
   "outputs": [
    {
     "output_type": "execute_result",
     "data": {
      "text/plain": [
       "array([23.34925219, 27.88755755, 28.75558507, 25.48723993, 23.87257618,\n",
       "       25.84368152])"
      ]
     },
     "metadata": {},
     "execution_count": 4
    }
   ],
   "metadata": {}
  },
  {
   "cell_type": "code",
   "execution_count": 6,
   "source": [
    "weight_kg = [81.65, 97.52, 95.25, 92.98, 86.18, 88.45]\r\n",
    "\r\n",
    "import numpy as np\r\n",
    "\r\n",
    "# Create a numpy array np_weight_kg from weight_kg\r\n",
    "np_weight_kg = np.array(weight_kg)\r\n",
    "\r\n",
    "# Create np_weight_lbs from np_weight_kg\r\n",
    "np_weight_lbs = np_weight_kg * 2.2\r\n",
    "\r\n",
    "# Print out np_weight_lbs\r\n",
    "print(np_weight_lbs)"
   ],
   "outputs": [
    {
     "output_type": "stream",
     "name": "stdout",
     "text": [
      "[179.63  214.544 209.55  204.556 189.596 194.59 ]\n"
     ]
    }
   ],
   "metadata": {}
  },
  {
   "cell_type": "code",
   "execution_count": 7,
   "source": [
    "dict = {\"country\": [\"Brazil\", \"Russia\", \"India\", \"China\", \"South Africa\"],\r\n",
    "       \"capital\": [\"Brasilia\", \"Moscow\", \"New Dehli\", \"Beijing\", \"Pretoria\"],\r\n",
    "       \"area\": [8.516, 17.10, 3.286, 9.597, 1.221],\r\n",
    "       \"population\": [200.4, 143.5, 1252, 1357, 52.98] }\r\n",
    "\r\n",
    "import pandas as pd\r\n",
    "brics = pd.DataFrame(dict)\r\n",
    "print(brics)"
   ],
   "outputs": [
    {
     "output_type": "stream",
     "name": "stdout",
     "text": [
      "        country    capital    area  population\n",
      "0        Brazil   Brasilia   8.516      200.40\n",
      "1        Russia     Moscow  17.100      143.50\n",
      "2         India  New Dehli   3.286     1252.00\n",
      "3         China    Beijing   9.597     1357.00\n",
      "4  South Africa   Pretoria   1.221       52.98\n"
     ]
    }
   ],
   "metadata": {}
  },
  {
   "cell_type": "code",
   "execution_count": 8,
   "source": [
    "# Set the index for brics\r\n",
    "brics.index = [\"BR\", \"RU\", \"IN\", \"CH\", \"SA\"]\r\n",
    "\r\n",
    "# Print out brics with new index values\r\n",
    "print(brics)"
   ],
   "outputs": [
    {
     "output_type": "stream",
     "name": "stdout",
     "text": [
      "         country    capital    area  population\n",
      "BR        Brazil   Brasilia   8.516      200.40\n",
      "RU        Russia     Moscow  17.100      143.50\n",
      "IN         India  New Dehli   3.286     1252.00\n",
      "CH         China    Beijing   9.597     1357.00\n",
      "SA  South Africa   Pretoria   1.221       52.98\n"
     ]
    }
   ],
   "metadata": {}
  },
  {
   "cell_type": "code",
   "execution_count": 9,
   "source": [
    "# Import pandas as pd\r\n",
    "import pandas as pd\r\n",
    "\r\n",
    "# Import the cars.csv data: cars\r\n",
    "cars = pd.read_csv('cars.csv')\r\n",
    "\r\n",
    "# Print out cars\r\n",
    "print(cars)"
   ],
   "outputs": [
    {
     "output_type": "stream",
     "name": "stdout",
     "text": [
      "   index  cars_per_cap        country  drives_right\n",
      "0     US           809  United States          True\n",
      "1    AUS           731      Australia         False\n",
      "2    JAP           588          Japan         False\n",
      "3  index            18          India         False\n",
      "4     RU           200         Russia          True\n",
      "5    MOR            70        Morocco          True\n",
      "6     EG            45          Egypt          True\n"
     ]
    }
   ],
   "metadata": {}
  },
  {
   "cell_type": "code",
   "execution_count": 10,
   "source": [
    "# Import pandas and cars.csv\r\n",
    "import pandas as pd\r\n",
    "cars = pd.read_csv('cars.csv', index_col = 0)\r\n",
    "\r\n",
    "# Print out country column as Pandas Series\r\n",
    "print(cars['cars_per_cap'])\r\n",
    "\r\n",
    "# Print out country column as Pandas DataFrame\r\n",
    "print(cars[['cars_per_cap']])\r\n",
    "\r\n",
    "# Print out DataFrame with country and drives_right columns\r\n",
    "print(cars[['cars_per_cap', 'country']])"
   ],
   "outputs": [
    {
     "output_type": "stream",
     "name": "stdout",
     "text": [
      "index\n",
      "US       809\n",
      "AUS      731\n",
      "JAP      588\n",
      "index     18\n",
      "RU       200\n",
      "MOR       70\n",
      "EG        45\n",
      "Name: cars_per_cap, dtype: int64\n",
      "       cars_per_cap\n",
      "index              \n",
      "US              809\n",
      "AUS             731\n",
      "JAP             588\n",
      "index            18\n",
      "RU              200\n",
      "MOR              70\n",
      "EG               45\n",
      "       cars_per_cap        country\n",
      "index                             \n",
      "US              809  United States\n",
      "AUS             731      Australia\n",
      "JAP             588          Japan\n",
      "index            18          India\n",
      "RU              200         Russia\n",
      "MOR              70        Morocco\n",
      "EG               45          Egypt\n"
     ]
    }
   ],
   "metadata": {}
  },
  {
   "cell_type": "code",
   "execution_count": 11,
   "source": [
    "# Import cars data\r\n",
    "import pandas as pd\r\n",
    "cars = pd.read_csv('cars.csv', index_col = 0)\r\n",
    "\r\n",
    "# Print out observation for Japan\r\n",
    "print(cars.iloc[2])\r\n",
    "\r\n",
    "# Print out observations for Australia and Egypt\r\n",
    "print(cars.loc[['AUS', 'EG']])"
   ],
   "outputs": [
    {
     "output_type": "stream",
     "name": "stdout",
     "text": [
      "cars_per_cap      588\n",
      "country         Japan\n",
      "drives_right    False\n",
      "Name: JAP, dtype: object\n",
      "       cars_per_cap    country  drives_right\n",
      "index                                       \n",
      "AUS             731  Australia         False\n",
      "EG               45      Egypt          True\n"
     ]
    }
   ],
   "metadata": {}
  }
 ],
 "metadata": {
  "orig_nbformat": 4,
  "language_info": {
   "name": "python",
   "version": "3.8.8",
   "mimetype": "text/x-python",
   "codemirror_mode": {
    "name": "ipython",
    "version": 3
   },
   "pygments_lexer": "ipython3",
   "nbconvert_exporter": "python",
   "file_extension": ".py"
  },
  "kernelspec": {
   "name": "python3",
   "display_name": "Python 3.8.8 64-bit ('base': conda)"
  },
  "interpreter": {
   "hash": "f8e1fe0df290e6cb296008413e64546b07c68c1223310af533a63f1548876c7f"
  }
 },
 "nbformat": 4,
 "nbformat_minor": 2
}